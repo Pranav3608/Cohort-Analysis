{
 "cells": [
  {
   "cell_type": "markdown",
   "metadata": {},
   "source": [
    "## Problem Statement & Objective\n",
    "We have been provided with two datasets, one comprises information about Orders and the second one comprises of information about Customers.\n",
    "1. We have to perform Analysis on the Orders Data and Customer Data while touching upon monthly revenues, users, monthly revenue per user etc.\n",
    "2. We have to prepare an analysis showing how many users placed a Purchase order, while how many actually converted bifurcated by\n",
    "    - Month\n",
    "    - Customer Profession\n",
    "3. We have prepare a 'COHORT analysis' showing the purchase pattern of users by month"
   ]
  },
  {
   "cell_type": "markdown",
   "metadata": {},
   "source": [
    "## Importing Necessary Libraries"
   ]
  },
  {
   "cell_type": "code",
   "execution_count": 1,
   "metadata": {},
   "outputs": [],
   "source": [
    "import pandas as pd\n",
    "import matplotlib.pyplot as plt\n",
    "import seaborn as sns"
   ]
  },
  {
   "cell_type": "markdown",
   "metadata": {},
   "source": [
    "## Data Preparation"
   ]
  },
  {
   "cell_type": "code",
   "execution_count": 4,
   "metadata": {},
   "outputs": [],
   "source": [
    "# Reading Csv Data into Pandas Dataframes for further Data Manipulations\n",
    "df_customer = pd.read_csv(\"Case_Study_Customer_Data.csv\")\n",
    "df_order = pd.read_csv(\"Case_Study_Orders_Data.csv\")"
   ]
  },
  {
   "cell_type": "code",
   "execution_count": 6,
   "metadata": {},
   "outputs": [
    {
     "name": "stdout",
     "output_type": "stream",
     "text": [
      "Customer Data:\n",
      "    Cust Id  Customer Created Date     Week     Cust Profession\n",
      "0  6X894534  01 Jan, 2021 00:23:41  W1,2021     Insurance Agent\n",
      "1  8WTK1802  01 Jan, 2021 01:16:11  W1,2021  Sales Professional\n",
      "2  0WWO4742  01 Jan, 2021 06:19:00  W1,2021      Small Merchant\n",
      "3  V4OO4168  01 Jan, 2021 06:32:11  W1,2021       Finance Agent\n",
      "4  Z8EA4622  01 Jan, 2021 08:42:21  W1,2021   BFSI Professional\n",
      "5  P3P11239  01 Jan, 2021 10:59:06  W1,2021       Finance Agent\n",
      "6  DVU07776  01 Jan, 2021 12:06:53  W1,2021  Sales Professional\n",
      "7  IMEE2234  01 Jan, 2021 12:36:04  W1,2021  Sales Professional\n",
      "8  347L3208  01 Jan, 2021 12:46:06  W1,2021      Small Merchant\n",
      "9  7TG30409  01 Jan, 2021 13:06:58  W1,2021   BFSI Professional\n",
      "Order Data:\n",
      "       Order No   Cust ID        Order Date Order Status  Order Amount\n",
      "0  4.260000e+18  6X894534  2001-01-21 00:36        Other           NaN\n",
      "1  4.260000e+18  0WWO4742  2001-01-21 06:24        Other           NaN\n",
      "2  4.260000e+18  V4OO4168  2001-01-21 06:47        Other           NaN\n",
      "3  4.260000e+18  V4OO4168  2001-01-21 06:51        Other           NaN\n",
      "4  4.260000e+18  Z8EA4622  2001-01-21 09:02        Other           NaN\n",
      "5  4.260000e+18  Z8EA4622  2001-01-21 09:08          Won        6984.0\n",
      "6  4.260000e+18  DVU07776  2001-01-21 12:53        Other           NaN\n",
      "7  4.260000e+18  IMEE2234  2001-01-21 13:36        Other           NaN\n",
      "8  4.260000e+18  GD478317  2001-01-21 14:02        Other           NaN\n",
      "9  4.260000e+18  GD478317  2001-01-21 14:04        Other           NaN\n"
     ]
    }
   ],
   "source": [
    "# Viewing the Data \n",
    "print(\"Customer Data:\")\n",
    "print(df_customer.head(10))\n",
    "\n",
    "print(\"Order Data:\")\n",
    "print(df_order.head(10))"
   ]
  },
  {
   "cell_type": "code",
   "execution_count": null,
   "metadata": {},
   "outputs": [],
   "source": []
  }
 ],
 "metadata": {
  "kernelspec": {
   "display_name": "base",
   "language": "python",
   "name": "python3"
  },
  "language_info": {
   "codemirror_mode": {
    "name": "ipython",
    "version": 3
   },
   "file_extension": ".py",
   "mimetype": "text/x-python",
   "name": "python",
   "nbconvert_exporter": "python",
   "pygments_lexer": "ipython3",
   "version": "3.9.13"
  }
 },
 "nbformat": 4,
 "nbformat_minor": 2
}
