{
 "cells": [
  {
   "cell_type": "markdown",
   "metadata": {},
   "source": [
    "## Problem Statement & Objective\n",
    "We have been provided with two datasets, one comprises information about Orders and the second one comprises of information about Customers.\n",
    "1. We have to perform Analysis on the Orders Data and Customer Data while touching upon monthly revenues, users, monthly revenue per user etc.\n",
    "2. We have to prepare an analysis showing how many users placed a Purchase order, while how many actually converted bifurcated by\n",
    "    - Month\n",
    "    - Customer Profession\n",
    "3. We have prepare a 'COHORT analysis' showing the purchase pattern of users by month"
   ]
  },
  {
   "cell_type": "markdown",
   "metadata": {},
   "source": [
    "## Importing Necessary Libraries"
   ]
  },
  {
   "cell_type": "code",
   "execution_count": 1,
   "metadata": {},
   "outputs": [],
   "source": [
    "import pandas as pd\n",
    "import matplotlib.pyplot as plt\n",
    "import seaborn as sns"
   ]
  },
  {
   "cell_type": "markdown",
   "metadata": {},
   "source": [
    "## Data Preparation"
   ]
  },
  {
   "cell_type": "code",
   "execution_count": 4,
   "metadata": {},
   "outputs": [],
   "source": [
    "# Reading Csv Data into Pandas Dataframes for further Data Manipulations\n",
    "df_customer = pd.read_csv(\"Case_Study_Customer_Data.csv\")\n",
    "df_order = pd.read_csv(\"Case_Study_Orders_Data.csv\")"
   ]
  },
  {
   "cell_type": "code",
   "execution_count": 6,
   "metadata": {},
   "outputs": [
    {
     "name": "stdout",
     "output_type": "stream",
     "text": [
      "Customer Data:\n",
      "    Cust Id  Customer Created Date     Week     Cust Profession\n",
      "0  6X894534  01 Jan, 2021 00:23:41  W1,2021     Insurance Agent\n",
      "1  8WTK1802  01 Jan, 2021 01:16:11  W1,2021  Sales Professional\n",
      "2  0WWO4742  01 Jan, 2021 06:19:00  W1,2021      Small Merchant\n",
      "3  V4OO4168  01 Jan, 2021 06:32:11  W1,2021       Finance Agent\n",
      "4  Z8EA4622  01 Jan, 2021 08:42:21  W1,2021   BFSI Professional\n",
      "5  P3P11239  01 Jan, 2021 10:59:06  W1,2021       Finance Agent\n",
      "6  DVU07776  01 Jan, 2021 12:06:53  W1,2021  Sales Professional\n",
      "7  IMEE2234  01 Jan, 2021 12:36:04  W1,2021  Sales Professional\n",
      "8  347L3208  01 Jan, 2021 12:46:06  W1,2021      Small Merchant\n",
      "9  7TG30409  01 Jan, 2021 13:06:58  W1,2021   BFSI Professional\n",
      "Order Data:\n",
      "       Order No   Cust ID        Order Date Order Status  Order Amount\n",
      "0  4.260000e+18  6X894534  2001-01-21 00:36        Other           NaN\n",
      "1  4.260000e+18  0WWO4742  2001-01-21 06:24        Other           NaN\n",
      "2  4.260000e+18  V4OO4168  2001-01-21 06:47        Other           NaN\n",
      "3  4.260000e+18  V4OO4168  2001-01-21 06:51        Other           NaN\n",
      "4  4.260000e+18  Z8EA4622  2001-01-21 09:02        Other           NaN\n",
      "5  4.260000e+18  Z8EA4622  2001-01-21 09:08          Won        6984.0\n",
      "6  4.260000e+18  DVU07776  2001-01-21 12:53        Other           NaN\n",
      "7  4.260000e+18  IMEE2234  2001-01-21 13:36        Other           NaN\n",
      "8  4.260000e+18  GD478317  2001-01-21 14:02        Other           NaN\n",
      "9  4.260000e+18  GD478317  2001-01-21 14:04        Other           NaN\n"
     ]
    }
   ],
   "source": [
    "# Viewing the Data \n",
    "print(\"Customer Data:\")\n",
    "print(df_customer.head(10))\n",
    "\n",
    "print(\"Order Data:\")\n",
    "print(df_order.head(10))"
   ]
  },
  {
   "cell_type": "markdown",
   "metadata": {},
   "source": [
    "## Data Cleaning & Feature Engineering "
   ]
  },
  {
   "cell_type": "code",
   "execution_count": 10,
   "metadata": {},
   "outputs": [
    {
     "name": "stdout",
     "output_type": "stream",
     "text": [
      "Customer Data Missing Values:\n",
      "Cust Id                   0\n",
      "Customer Created Date     0\n",
      "Week                      0\n",
      "Cust Profession          42\n",
      "dtype: int64\n",
      "\n",
      "\n",
      "Order Data Missing Values:\n",
      "Order No            0\n",
      "Cust ID             0\n",
      "Order Date          0\n",
      "Order Status        0\n",
      "Order Amount    25920\n",
      "dtype: int64\n"
     ]
    }
   ],
   "source": [
    "# Checking for Missing/Null Values \n",
    "print(\"Customer Data Missing Values:\")\n",
    "print(df_customer.isnull().sum())\n",
    "print(\"\\n\")\n",
    "print(\"Order Data Missing Values:\")\n",
    "print(df_order.isnull().sum())"
   ]
  },
  {
   "cell_type": "code",
   "execution_count": 23,
   "metadata": {},
   "outputs": [],
   "source": [
    "# In order to maintain the Data Integrity and accuracy in further analysis, and to avoid certain bias later; \n",
    "# We will replace the Null values in the Cust Profession Column with 'Others'.\n",
    "df_customer['Cust Profession'].fillna('Other', inplace=True)"
   ]
  },
  {
   "cell_type": "code",
   "execution_count": 25,
   "metadata": {},
   "outputs": [
    {
     "data": {
      "image/png": "[encoded data removed]",
      "text/plain": [
       "<Figure size 800x600 with 1 Axes>"
      ]
     },
     "metadata": {},
     "output_type": "display_data"
    },
    {
     "name": "stdout",
     "output_type": "stream",
     "text": [
      "Max Order Amount: 571698.0\n",
      "Min Order Amount: 0.0\n",
      "Mean Order Amount: 8125.367598294647\n",
      "Median Order Amount: 1581.5\n"
     ]
    }
   ],
   "source": [
    "# Visualising Outliers in Order amount to avoid biasing\n",
    "plt.figure(figsize=(8, 6))\n",
    "plt.hist(df_order['Order Amount'], bins=20)\n",
    "plt.title('Histogram of Order Amount')\n",
    "plt.xlabel('Order Amount')\n",
    "plt.ylabel('Frequency')\n",
    "plt.show()\n",
    "\n",
    "# Checking the MAX and MIN values in Order Amount\n",
    "max_order_amount = df_order['Order Amount'].max()\n",
    "min_order_amount = df_order['Order Amount'].min()\n",
    "print(\"Max Order Amount:\", max_order_amount)\n",
    "print(\"Min Order Amount:\", min_order_amount)\n",
    "\n",
    "# Calculating Mean for Order Amount\n",
    "mean_order_amount = df_order['Order Amount'].mean()\n",
    "print(\"Mean Order Amount:\", mean_order_amount)\n",
    "\n",
    "# Calculating the Median for Order Amount\n",
    "median_order_amount = df_order['Order Amount'].median()\n",
    "print(\"Median Order Amount:\", median_order_amount)"
   ]
  },
  {
   "cell_type": "code",
   "execution_count": 26,
   "metadata": {},
   "outputs": [],
   "source": [
    "# Since Extemely high values in Order amount could disproportionately influence the mean.\n",
    "# We will impute the NUll values in the Order amount with Median.\n",
    "df_order['Order Amount'].fillna(median_order_amount, inplace=True)"
   ]
  },
  {
   "cell_type": "code",
   "execution_count": 27,
   "metadata": {},
   "outputs": [
    {
     "name": "stdout",
     "output_type": "stream",
     "text": [
      "Customer Data Missing Values:\n",
      "Cust Id                  0\n",
      "Customer Created Date    0\n",
      "Week                     0\n",
      "Cust Profession          0\n",
      "dtype: int64\n",
      "\n",
      "\n",
      "Order Data Missing Values:\n",
      "Order No        0\n",
      "Cust ID         0\n",
      "Order Date      0\n",
      "Order Status    0\n",
      "Order Amount    0\n",
      "dtype: int64\n"
     ]
    }
   ],
   "source": [
    "# Validating the Null Values\n",
    "print(\"Customer Data Missing Values:\")\n",
    "print(df_customer.isnull().sum())\n",
    "print(\"\\n\")\n",
    "print(\"Order Data Missing Values:\")\n",
    "print(df_order.isnull().sum())"
   ]
  },
  {
   "cell_type": "code",
   "execution_count": 41,
   "metadata": {},
   "outputs": [
    {
     "name": "stdout",
     "output_type": "stream",
     "text": [
      "0   2021-01-01 00:23:41\n",
      "1   2021-01-01 01:16:11\n",
      "2   2021-01-01 06:19:00\n",
      "3   2021-01-01 06:32:11\n",
      "4   2021-01-01 08:42:21\n",
      "Name: Customer Created Date, dtype: datetime64[ns]\n",
      "0   2001-01-21 00:36:00\n",
      "1   2001-01-21 06:24:00\n",
      "2   2001-01-21 06:47:00\n",
      "3   2001-01-21 06:51:00\n",
      "4   2001-01-21 09:02:00\n",
      "Name: Order Date, dtype: datetime64[ns]\n"
     ]
    }
   ],
   "source": [
    "# Datetime Formatting\n",
    "df_customer['Customer Created Date'] = pd.to_datetime(df_customer['Customer Created Date'], format='%m%d%Y %H:%M:%S' )\n",
    "df_order['Order Date'] = pd.to_datetime(df_order['Order Date'], format='%m%d%Y %H:%M:%S') \n",
    "print(df_customer['Customer Created Date'].head(5))\n",
    "print(df_order['Order Date'].head(5))"
   ]
  },
  {
   "cell_type": "code",
   "execution_count": 42,
   "metadata": {},
   "outputs": [
    {
     "name": "stdout",
     "output_type": "stream",
     "text": [
      "0    2021-01\n",
      "1    2021-01\n",
      "2    2021-01\n",
      "3    2021-01\n",
      "4    2021-01\n",
      "Name: Month, dtype: period[M]\n",
      "0    2001-01\n",
      "1    2001-01\n",
      "2    2001-01\n",
      "3    2001-01\n",
      "4    2001-01\n",
      "Name: Month, dtype: period[M]\n"
     ]
    }
   ],
   "source": [
    "# Since we need to prepare Analysis on the Orders Data and Customer Data while touching upon monthly revenues, users, monthly revenue per user etc.\n",
    "# We would need to create new features in our dataset for 'MONTH' \n",
    "df_customer['Month'] = df_customer['Customer Created Date'].dt.to_period('M')\n",
    "df_order['Month'] = df_order['Order Date'].dt.to_period('M')\n",
    "print(df_customer['Month'].head(5))\n",
    "print(df_order['Month'].head(5))"
   ]
  },
  {
   "cell_type": "code",
   "execution_count": null,
   "metadata": {},
   "outputs": [],
   "source": []
  }
 ],
 "metadata": {
  "kernelspec": {
   "display_name": "base",
   "language": "python",
   "name": "python3"
  },
  "language_info": {
   "codemirror_mode": {
    "name": "ipython",
    "version": 3
   },
   "file_extension": ".py",
   "mimetype": "text/x-python",
   "name": "python",
   "nbconvert_exporter": "python",
   "pygments_lexer": "ipython3",
   "version": "3.9.13"
  }
 },
 "nbformat": 4,
 "nbformat_minor": 2
}
